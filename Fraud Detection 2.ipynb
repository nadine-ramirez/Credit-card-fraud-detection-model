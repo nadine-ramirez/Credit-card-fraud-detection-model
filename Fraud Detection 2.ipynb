{
 "cells": [
  {
   "cell_type": "markdown",
   "id": "0009caa4-8852-48ff-862e-7ab0f3441c47",
   "metadata": {},
   "source": [
    "pip install xgboost\n"
   ]
  },
  {
   "cell_type": "code",
   "execution_count": 89,
   "id": "f2c5791a-ae0f-48cd-b232-d8a6e501af99",
   "metadata": {},
   "outputs": [
    {
     "ename": "ModuleNotFoundError",
     "evalue": "No module named 'tensorflow'",
     "output_type": "error",
     "traceback": [
      "\u001b[0;31m---------------------------------------------------------------------------\u001b[0m",
      "\u001b[0;31mModuleNotFoundError\u001b[0m                       Traceback (most recent call last)",
      "Cell \u001b[0;32mIn[89], line 13\u001b[0m\n\u001b[1;32m     11\u001b[0m \u001b[38;5;28;01mfrom\u001b[39;00m \u001b[38;5;21;01msklearn\u001b[39;00m\u001b[38;5;21;01m.\u001b[39;00m\u001b[38;5;21;01mpipeline\u001b[39;00m \u001b[38;5;28;01mimport\u001b[39;00m make_pipeline\n\u001b[1;32m     12\u001b[0m \u001b[38;5;28;01mfrom\u001b[39;00m \u001b[38;5;21;01mxgboost\u001b[39;00m \u001b[38;5;28;01mimport\u001b[39;00m XGBClassifier\n\u001b[0;32m---> 13\u001b[0m \u001b[38;5;28;01mimport\u001b[39;00m \u001b[38;5;21;01mtensorflow\u001b[39;00m \u001b[38;5;28;01mas\u001b[39;00m \u001b[38;5;21;01mtf\u001b[39;00m\n\u001b[1;32m     14\u001b[0m \u001b[38;5;28;01mfrom\u001b[39;00m \u001b[38;5;21;01msklearn\u001b[39;00m\u001b[38;5;21;01m.\u001b[39;00m\u001b[38;5;21;01mmetrics\u001b[39;00m \u001b[38;5;28;01mimport\u001b[39;00m accuracy_score, precision_score, recall_score\n\u001b[1;32m     15\u001b[0m \u001b[38;5;28;01mfrom\u001b[39;00m \u001b[38;5;21;01msklearn\u001b[39;00m\u001b[38;5;21;01m.\u001b[39;00m\u001b[38;5;21;01mmodel_selection\u001b[39;00m \u001b[38;5;28;01mimport\u001b[39;00m train_test_split\n",
      "\u001b[0;31mModuleNotFoundError\u001b[0m: No module named 'tensorflow'"
     ]
    }
   ],
   "source": [
    "import pandas as pd\n",
    "import numpy as np\n",
    "import plotly.express as px\n",
    "from sklearn import linear_model\n",
    "from sklearn.metrics import recall_score, accuracy_score, f1_score, precision_score\n",
    "from sklearn.model_selection import train_test_split\n",
    "from sklearn.preprocessing import StandardScaler\n",
    "from sklearn.metrics import ConfusionMatrixDisplay\n",
    "from sklearn.ensemble import RandomForestClassifier\n",
    "from sklearn.datasets import make_classification\n",
    "from sklearn.pipeline import make_pipeline\n",
    "from xgboost import XGBClassifier\n",
    "import tensorflow as tf\n",
    "from sklearn.metrics import accuracy_score, precision_score, recall_score\n",
    "from sklearn.model_selection import train_test_split\n",
    "from tensorflow.keras import layers, losses\n",
    "from tensorflow.keras.datasets import fashion_mnist\n",
    "from tensorflow.keras.models import Model\n",
    "from keras.layers import Input,Dense\n",
    "import streamlit as st\n",
    "import joblib\n",
    "import keras\n",
    "from keras import layers"
   ]
  },
  {
   "cell_type": "code",
   "execution_count": null,
   "id": "5a657188-b762-48be-9239-23e83ca2fb2b",
   "metadata": {},
   "outputs": [],
   "source": [
    "pd.set_option('display.max_rows', 1000)\n",
    "pd.set_option('display.max_columns', 1000)\n",
    "pd.set_option('display.width', 1000)"
   ]
  },
  {
   "cell_type": "code",
   "execution_count": null,
   "id": "84723ba8-d42e-4849-8bfd-ae90e209df08",
   "metadata": {},
   "outputs": [],
   "source": [
    "df = pd.read_csv('fraudTrain.csv')"
   ]
  },
  {
   "cell_type": "code",
   "execution_count": null,
   "id": "6d3954e9-1643-41c9-ab46-d049a8b77eba",
   "metadata": {},
   "outputs": [],
   "source": [
    "df_fraud = df[df['is_fraud']==1]"
   ]
  },
  {
   "cell_type": "code",
   "execution_count": null,
   "id": "abfae412-eea9-4426-ad45-14548134103f",
   "metadata": {},
   "outputs": [],
   "source": [
    "df_fraud.shape"
   ]
  },
  {
   "cell_type": "code",
   "execution_count": null,
   "id": "8b0e2212-f41e-42b5-88c4-62a7894490de",
   "metadata": {},
   "outputs": [],
   "source": [
    "df_fraud.info()"
   ]
  },
  {
   "cell_type": "code",
   "execution_count": null,
   "id": "06d07f87-fbfa-4382-b738-3ad280d3612e",
   "metadata": {},
   "outputs": [],
   "source": [
    "fig = px.histogram(data_frame = df_fraud,\n",
    "    x = 'amt',\n",
    "    title = 'Distribution of Fraud vs Amount'\n",
    ")\n",
    "fig.show()"
   ]
  },
  {
   "cell_type": "code",
   "execution_count": null,
   "id": "3cc3faa1-b3ec-4c8f-ad6d-dc3add687419",
   "metadata": {},
   "outputs": [],
   "source": [
    "gender_fraud = px.box(data_frame=df_fraud,\n",
    "                      x='gender',\n",
    "                      y='amt',\n",
    "                      title ='Gender vs Amount')\n",
    "gender_fraud.show()"
   ]
  },
  {
   "cell_type": "code",
   "execution_count": null,
   "id": "64f7fc01-4f38-4acb-97e3-dde62a8c4cca",
   "metadata": {},
   "outputs": [],
   "source": [
    "gender_fraud = px.box(data_frame=df_fraud,\n",
    "                      x='state',\n",
    "                      y='amt',\n",
    "                      title ='State vs Amount')\n",
    "gender_fraud.show()"
   ]
  },
  {
   "cell_type": "code",
   "execution_count": null,
   "id": "a3155276-0acf-47b2-bf4d-697530b8678e",
   "metadata": {},
   "outputs": [],
   "source": [
    "df_fraud.state.unique()"
   ]
  },
  {
   "cell_type": "code",
   "execution_count": null,
   "id": "2697c9e1-a76e-4268-9517-56a9710f4d33",
   "metadata": {},
   "outputs": [],
   "source": [
    "df_fraud.loc[:,['amt','state']].groupby(['state']).count().reset_index().sort_values(by='amt', ascending=False)"
   ]
  },
  {
   "cell_type": "code",
   "execution_count": null,
   "id": "0f43cbfc-ecca-4126-a575-0cc7fc602ac0",
   "metadata": {},
   "outputs": [],
   "source": [
    "def fraud_state(state):\n",
    "    if state in ['NY','TX','PA','CA','OH']:\n",
    "        return 1\n",
    "    else:\n",
    "        return 0"
   ]
  },
  {
   "cell_type": "code",
   "execution_count": null,
   "id": "cbe3bfba-41f7-44cb-8c0a-1fa9bdebdf52",
   "metadata": {},
   "outputs": [],
   "source": [
    "top_five_fraud_states = df.state.apply(fraud_state)"
   ]
  },
  {
   "cell_type": "code",
   "execution_count": null,
   "id": "584e9334-1846-4f8b-b9ec-258353679a35",
   "metadata": {},
   "outputs": [],
   "source": [
    "df['top_five_fraud_states']= top_five_fraud_states"
   ]
  },
  {
   "cell_type": "code",
   "execution_count": null,
   "id": "b0897990-1fb6-47ef-9a78-0fa680b36341",
   "metadata": {},
   "outputs": [],
   "source": [
    "df.info()"
   ]
  },
  {
   "cell_type": "code",
   "execution_count": null,
   "id": "10f4c9a4-3f3e-4c53-a9fc-b242ba84c29e",
   "metadata": {},
   "outputs": [],
   "source": [
    "df.category.unique()"
   ]
  },
  {
   "cell_type": "code",
   "execution_count": null,
   "id": "b87f318b-2bab-4da8-a254-2b3926b1fd6f",
   "metadata": {},
   "outputs": [],
   "source": [
    "category_amt = px.box(data_frame=df_fraud,\n",
    "                      x='category',\n",
    "                      y='amt',\n",
    "                      title='Category Amt')\n",
    "category_amt.show()"
   ]
  },
  {
   "cell_type": "code",
   "execution_count": null,
   "id": "776e2b3e-b563-4ffd-aed5-d0fbb80763db",
   "metadata": {},
   "outputs": [],
   "source": [
    "df = pd.get_dummies(columns=['category'], data=df, dtype=float)"
   ]
  },
  {
   "cell_type": "code",
   "execution_count": null,
   "id": "3c5c3a5e-43d1-45e2-a077-fce12eb2a26e",
   "metadata": {},
   "outputs": [],
   "source": [
    "df = pd.get_dummies(columns=['gender'], data=df, dtype=float)"
   ]
  },
  {
   "cell_type": "code",
   "execution_count": null,
   "id": "712a51a1-61c8-4825-b46e-f79e0c469a8b",
   "metadata": {},
   "outputs": [],
   "source": [
    "df.info()"
   ]
  },
  {
   "cell_type": "code",
   "execution_count": null,
   "id": "7f37ae7d-d6a5-47e0-83ee-f77aba919f05",
   "metadata": {},
   "outputs": [],
   "source": [
    "df.head()"
   ]
  },
  {
   "cell_type": "code",
   "execution_count": null,
   "id": "f045a439-1367-4361-ac1f-2523dbf5e275",
   "metadata": {},
   "outputs": [],
   "source": [
    "#merch = px.scatter(data_frame=df,x='merch_lat',y='merch_long', color='is_fraud', title='Merch Lat vs Long')\n",
    "#merch.show()"
   ]
  },
  {
   "cell_type": "code",
   "execution_count": null,
   "id": "d0943de8-ab4f-4ee8-917e-e404ec410ed3",
   "metadata": {},
   "outputs": [],
   "source": [
    "#fig = px.choropleth(data_frame=df_fraud, color='amt', locationmode='USA-states',\n",
    "                           # locations='state',\n",
    "                            #scope='usa',\n",
    "                           #range_color=(0, 12),\n",
    "                          #)\n",
    "#fig.show()"
   ]
  },
  {
   "cell_type": "code",
   "execution_count": null,
   "id": "c9148d6c-5128-4f6d-bef9-fd347fd0db44",
   "metadata": {},
   "outputs": [],
   "source": [
    "X = df.loc[:,['amt', 'top_five_fraud_states', 'city_pop', 'gender_M', 'merch_lat', 'merch_long', \n",
    "             'category_entertainment', 'category_food_dining', 'category_gas_transport','category_grocery_net',\n",
    "             'category_grocery_pos', 'category_health_fitness', 'category_home', 'category_kids_pets', 'category_misc_net',\n",
    "              'category_misc_pos', 'category_personal_care', 'category_shopping_net', 'category_shopping_pos', 'category_travel',]]"
   ]
  },
  {
   "cell_type": "code",
   "execution_count": null,
   "id": "d9c6a494-c32e-427c-ab4c-bc29c1e3ab37",
   "metadata": {},
   "outputs": [],
   "source": [
    "y = df.loc[:,['is_fraud']]"
   ]
  },
  {
   "cell_type": "code",
   "execution_count": null,
   "id": "7bf9300b-936c-4678-901d-5fa7c9a9acb7",
   "metadata": {},
   "outputs": [],
   "source": [
    "X_train, X_test, y_train, y_test = train_test_split(X,y,test_size=.33, random_state=42, stratify=y)\n",
    "#stratify when we have class imbalance."
   ]
  },
  {
   "cell_type": "code",
   "execution_count": null,
   "id": "b931d0b8-15cb-4b06-863e-0c8ad9fd6cb0",
   "metadata": {},
   "outputs": [],
   "source": [
    "scale = StandardScaler()"
   ]
  },
  {
   "cell_type": "code",
   "execution_count": null,
   "id": "16f776c9-9d49-416b-b9a9-5163acc669a2",
   "metadata": {},
   "outputs": [],
   "source": [
    "X_train=scale.fit_transform(X_train)"
   ]
  },
  {
   "cell_type": "code",
   "execution_count": null,
   "id": "b2a97486-fcde-43ee-89ab-481f73c3519e",
   "metadata": {},
   "outputs": [],
   "source": [
    "joblib.dump(scale,'scaler.joblib')"
   ]
  },
  {
   "cell_type": "code",
   "execution_count": null,
   "id": "5a383c36-b6fe-470a-af0f-abf3532469b8",
   "metadata": {},
   "outputs": [],
   "source": [
    "X_test = scale.transform(X_test)"
   ]
  },
  {
   "cell_type": "code",
   "execution_count": null,
   "id": "93ea87b9-3557-4c4e-b629-86f89e49bcfd",
   "metadata": {},
   "outputs": [],
   "source": [
    "lr = linear_model.LogisticRegression(C=0.01, class_weight = 'balanced')"
   ]
  },
  {
   "cell_type": "code",
   "execution_count": null,
   "id": "3fee732b-d681-424e-aff5-8f6f0421a691",
   "metadata": {},
   "outputs": [],
   "source": [
    "lr.fit(X_train, y_train)"
   ]
  },
  {
   "cell_type": "code",
   "execution_count": null,
   "id": "ffdd2df4-6432-46aa-99e9-3be14239d550",
   "metadata": {},
   "outputs": [],
   "source": [
    "r_train_score = recall_score(y_train, lr.predict(X_train))\n",
    "r_test_score = recall_score(y_test, lr.predict(X_test))\n",
    "print(r_train_score, r_test_score)"
   ]
  },
  {
   "cell_type": "code",
   "execution_count": null,
   "id": "79b3fae5-ae28-4cb0-a31c-82e2cc253bb7",
   "metadata": {},
   "outputs": [],
   "source": [
    "a_train_score = accuracy_score(y_train, lr.predict(X_train))\n",
    "a_test_score = accuracy_score(y_test, lr.predict(X_test))\n",
    "print(a_train_score, a_test_score)"
   ]
  },
  {
   "cell_type": "code",
   "execution_count": null,
   "id": "7a5d1499-e6e3-4e7a-8ae0-29f601fa156d",
   "metadata": {},
   "outputs": [],
   "source": [
    "p_train_score = precision_score(y_train, lr.predict(X_train))\n",
    "p_test_score = precision_score(y_test, lr.predict(X_test))\n",
    "print(p_train_score, p_test_score)"
   ]
  },
  {
   "cell_type": "code",
   "execution_count": null,
   "id": "ea5432e6-4b3b-4687-bd5b-93ff767134f5",
   "metadata": {},
   "outputs": [],
   "source": [
    "ConfusionMatrixDisplay.from_estimator(lr, X_test, y_test)"
   ]
  },
  {
   "cell_type": "code",
   "execution_count": null,
   "id": "40278933-4bc0-4437-8bca-b2ebff98b0ba",
   "metadata": {},
   "outputs": [],
   "source": [
    "random_forest = RandomForestClassifier(max_depth=5, random_state=0, class_weight='balanced', n_estimators=200)\n",
    "random_forest.fit(X_train,y_train)"
   ]
  },
  {
   "cell_type": "code",
   "execution_count": null,
   "id": "7e604b10-2865-49cf-bb75-c31c683d07c7",
   "metadata": {},
   "outputs": [],
   "source": [
    "RF_r_train_score = recall_score(y_train, random_forest.predict(X_train))\n",
    "RF_r_test_score = recall_score(y_test, random_forest.predict(X_test))\n",
    "print(RF_r_train_score, RF_r_test_score)"
   ]
  },
  {
   "cell_type": "code",
   "execution_count": null,
   "id": "e22064d1-0bfd-4932-95cc-cca8f0f9c25b",
   "metadata": {},
   "outputs": [],
   "source": [
    "RF_p_train_score = precision_score(y_train, random_forest.predict(X_train))\n",
    "RF_p_test_score = precision_score(y_test, random_forest.predict(X_test))\n",
    "print(RF_p_train_score, RF_p_test_score)"
   ]
  },
  {
   "cell_type": "code",
   "execution_count": null,
   "id": "ebbe4c68-dd2a-417a-8899-9bab9c986430",
   "metadata": {},
   "outputs": [],
   "source": [
    "bst = XGBClassifier(n_estimators=25, max_depth=5, learning_rate=1, objective='binary:logistic', scale_pos_weight=2)\n",
    "# fit model\n",
    "bst.fit(X_train, y_train)\n",
    "# make predictions\n",
    "preds = bst.predict(X_test)"
   ]
  },
  {
   "cell_type": "code",
   "execution_count": null,
   "id": "e9093d8c-98c0-43e4-b799-19276d98463c",
   "metadata": {},
   "outputs": [],
   "source": [
    "G_p_train_score = precision_score(y_train, bst.predict(X_train))\n",
    "G_p_test_score = precision_score(y_test, bst.predict(X_test))\n",
    "print(G_p_train_score, G_p_test_score)"
   ]
  },
  {
   "cell_type": "code",
   "execution_count": null,
   "id": "d966df76-e3e6-46d6-957c-384335285302",
   "metadata": {},
   "outputs": [],
   "source": [
    "G_r_train_score = recall_score(y_train, bst.predict(X_train))\n",
    "G_r_test_score = recall_score(y_test, bst.predict(X_test))\n",
    "print(G_r_train_score, G_r_test_score)"
   ]
  },
  {
   "cell_type": "code",
   "execution_count": null,
   "id": "f179515f-cdac-42d9-aea4-2f4fe005ea62",
   "metadata": {},
   "outputs": [],
   "source": [
    "f1_r_train_score = f1_score(y_train, bst.predict(X_train))\n",
    "f1_r_test_score = f1_score(y_test, bst.predict(X_test))\n",
    "print(f1_r_train_score, f1_r_test_score)"
   ]
  },
  {
   "cell_type": "code",
   "execution_count": null,
   "id": "98b07091-7e25-41bb-9799-43c9180ddb74",
   "metadata": {},
   "outputs": [],
   "source": [
    "bst.save_model('model_file_name.json')"
   ]
  },
  {
   "cell_type": "code",
   "execution_count": null,
   "id": "82dfa92c-8c38-481a-8628-88a7b137c4b0",
   "metadata": {},
   "outputs": [],
   "source": [
    "#Streamlit"
   ]
  },
  {
   "cell_type": "code",
   "execution_count": null,
   "id": "c102cf5c-c817-4a28-b190-c7286e79b780",
   "metadata": {},
   "outputs": [],
   "source": []
  },
  {
   "cell_type": "code",
   "execution_count": null,
   "id": "fad0f153-3176-4fb8-a4d7-5c9e8e1cf464",
   "metadata": {},
   "outputs": [],
   "source": [
    "@st.cache\n",
    "def load_data():\n",
    "    data = df\n",
    "    numeric_data = data.select_dtypes(['float','int'])\n",
    "    numeric_cols = numeric_data.columns\n",
    "    return data, numeric_cols"
   ]
  },
  {
   "cell_type": "code",
   "execution_count": null,
   "id": "836992fa-619e-42c5-956f-7ac16ac5222c",
   "metadata": {},
   "outputs": [],
   "source": [
    "#data, numeric_cols = load_data()"
   ]
  },
  {
   "cell_type": "code",
   "execution_count": null,
   "id": "9ede9f70-ee14-4c40-bea9-dba9bea3339a",
   "metadata": {
    "scrolled": true
   },
   "outputs": [],
   "source": [
    "st.title('Fraud Detection')"
   ]
  },
  {
   "cell_type": "code",
   "execution_count": null,
   "id": "601f149a-50a2-49a0-8e4d-e7964fb449d5",
   "metadata": {},
   "outputs": [],
   "source": [
    "st.write(data)"
   ]
  },
  {
   "cell_type": "code",
   "execution_count": null,
   "id": "2424e79e-daa7-4ac5-a38e-27be587e746f",
   "metadata": {},
   "outputs": [],
   "source": [
    "#Deep Learning"
   ]
  },
  {
   "cell_type": "code",
   "execution_count": null,
   "id": "a6d275e3-06a3-491f-8534-38042a0fa6af",
   "metadata": {},
   "outputs": [],
   "source": [
    "encoding_dim = 5"
   ]
  },
  {
   "cell_type": "code",
   "execution_count": null,
   "id": "6f1af7b5-cc55-4259-ad9b-73c38a9aa834",
   "metadata": {},
   "outputs": [],
   "source": [
    "encoded = layers.Dense(encoding_dim, activation='relu')(keras.Input(X))"
   ]
  },
  {
   "cell_type": "code",
   "execution_count": null,
   "id": "fd5398eb-c68b-4ca4-9674-7160884ea029",
   "metadata": {},
   "outputs": [],
   "source": [
    "decoded = layers.Dense(784, activation='sigmoid')(encoded)"
   ]
  },
  {
   "cell_type": "code",
   "execution_count": null,
   "id": "fd4cef17-75dd-4fee-85ff-33417176a6db",
   "metadata": {},
   "outputs": [],
   "source": [
    "autoencoder = keras.Model(df, decoded)"
   ]
  },
  {
   "cell_type": "code",
   "execution_count": null,
   "id": "b57fe4fe-0524-4d8c-aaab-1a4e9c0d8866",
   "metadata": {},
   "outputs": [],
   "source": [
    "encoder = keras.Model(df, encoded)"
   ]
  },
  {
   "cell_type": "code",
   "execution_count": null,
   "id": "8f0d395e-1633-4d71-a0f3-e266ab4a6de4",
   "metadata": {},
   "outputs": [],
   "source": [
    "# This is our encoded (32-dimensional) input\n",
    "encoded_input = keras.Input(shape=(encoding_dim,))\n",
    "# Retrieve the last layer of the autoencoder model\n",
    "decoder_layer = autoencoder.layers[-1]\n",
    "# Create the decoder model\n",
    "decoder = keras.Model(encoded_input, decoder_layer(encoded_input))"
   ]
  },
  {
   "cell_type": "code",
   "execution_count": null,
   "id": "4fcb4083-a5cc-4930-808a-2fdbebb5b270",
   "metadata": {},
   "outputs": [],
   "source": [
    "autoencoder.compile(optimizer='adam', loss='binary_crossentropy')"
   ]
  },
  {
   "cell_type": "code",
   "execution_count": null,
   "id": "072a1982-3695-4d5e-8d34-2e5cff57eec4",
   "metadata": {},
   "outputs": [],
   "source": [
    "x_train = keras.Input(X_train.astype('float32') / 255)\n",
    "x_test = keras.Input(X_test.astype('float32') / 255)\n",
    "x_train = keras.Input(X_train.reshape((len(X_train), np.prod(X_train.shape[1:]))))\n",
    "x_test = kera.Input(X_test.reshape((len(X_test), np.prod(X_test.shape[1:]))))\n",
    "print(X_train.shape)\n",
    "print(X_test.shape)"
   ]
  },
  {
   "cell_type": "code",
   "execution_count": null,
   "id": "c9398892-2c62-42c2-9ae1-0c853b06f903",
   "metadata": {},
   "outputs": [],
   "source": [
    "autoencoder.fit(x_train, x_train,\n",
    "                epochs=50,\n",
    "                batch_size=256,\n",
    "                shuffle=True,\n",
    "                validation_data=(x_test, x_test))"
   ]
  },
  {
   "cell_type": "code",
   "execution_count": null,
   "id": "2c37fa1f-a85a-4d14-9951-322a13bd5bf1",
   "metadata": {},
   "outputs": [],
   "source": []
  },
  {
   "cell_type": "code",
   "execution_count": null,
   "id": "11ba0e15-744f-4a75-a1bf-518419a2f9fa",
   "metadata": {},
   "outputs": [],
   "source": []
  },
  {
   "cell_type": "code",
   "execution_count": null,
   "id": "5c6a894e-7c10-4486-887b-3083e0e47ffb",
   "metadata": {},
   "outputs": [],
   "source": []
  },
  {
   "cell_type": "code",
   "execution_count": null,
   "id": "5dcfca17-1164-4111-9d1c-5b21f2565a7c",
   "metadata": {},
   "outputs": [],
   "source": []
  }
 ],
 "metadata": {
  "kernelspec": {
   "display_name": "Python [conda env:base] *",
   "language": "python",
   "name": "conda-base-py"
  },
  "language_info": {
   "codemirror_mode": {
    "name": "ipython",
    "version": 3
   },
   "file_extension": ".py",
   "mimetype": "text/x-python",
   "name": "python",
   "nbconvert_exporter": "python",
   "pygments_lexer": "ipython3",
   "version": "3.12.7"
  }
 },
 "nbformat": 4,
 "nbformat_minor": 5
}
